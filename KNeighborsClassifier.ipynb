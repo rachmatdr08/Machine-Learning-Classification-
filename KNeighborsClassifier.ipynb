{
 "cells": [
  {
   "cell_type": "code",
   "execution_count": 1,
   "metadata": {},
   "outputs": [],
   "source": [
    "import itertools\n",
    "import numpy as np\n",
    "import matplotlib.pyplot as plt\n",
    "from matplotlib.ticker import NullFormatter\n",
    "import pandas as pd\n",
    "import numpy as np\n",
    "import matplotlib.ticker as ticker\n",
    "from sklearn import preprocessing\n",
    "%matplotlib inline"
   ]
  },
  {
   "cell_type": "code",
   "execution_count": 3,
   "metadata": {},
   "outputs": [
    {
     "data": {
      "text/html": [
       "<div>\n",
       "<style scoped>\n",
       "    .dataframe tbody tr th:only-of-type {\n",
       "        vertical-align: middle;\n",
       "    }\n",
       "\n",
       "    .dataframe tbody tr th {\n",
       "        vertical-align: top;\n",
       "    }\n",
       "\n",
       "    .dataframe thead th {\n",
       "        text-align: right;\n",
       "    }\n",
       "</style>\n",
       "<table border=\"1\" class=\"dataframe\">\n",
       "  <thead>\n",
       "    <tr style=\"text-align: right;\">\n",
       "      <th></th>\n",
       "      <th>ID</th>\n",
       "      <th>Recording</th>\n",
       "      <th>Status</th>\n",
       "      <th>Gender</th>\n",
       "      <th>Pitch Local</th>\n",
       "      <th>Shim Loc</th>\n",
       "      <th>Amplitude</th>\n",
       "      <th>Harmonic</th>\n",
       "      <th>RPDE</th>\n",
       "      <th>DFA</th>\n",
       "      <th>PPE</th>\n",
       "      <th>GNE</th>\n",
       "      <th>MFCC</th>\n",
       "      <th>Delta</th>\n",
       "    </tr>\n",
       "  </thead>\n",
       "  <tbody>\n",
       "    <tr>\n",
       "      <th>0</th>\n",
       "      <td>CONT-01</td>\n",
       "      <td>1</td>\n",
       "      <td>0</td>\n",
       "      <td>1</td>\n",
       "      <td>0.064654</td>\n",
       "      <td>0.030256</td>\n",
       "      <td>0.070478</td>\n",
       "      <td>69.444370</td>\n",
       "      <td>0.250433</td>\n",
       "      <td>0.599346</td>\n",
       "      <td>0.005397</td>\n",
       "      <td>0.900404</td>\n",
       "      <td>1.318551</td>\n",
       "      <td>1.404508</td>\n",
       "    </tr>\n",
       "    <tr>\n",
       "      <th>1</th>\n",
       "      <td>CONT-01</td>\n",
       "      <td>2</td>\n",
       "      <td>0</td>\n",
       "      <td>1</td>\n",
       "      <td>0.093459</td>\n",
       "      <td>0.023146</td>\n",
       "      <td>0.053850</td>\n",
       "      <td>71.426435</td>\n",
       "      <td>0.271445</td>\n",
       "      <td>0.581242</td>\n",
       "      <td>0.075617</td>\n",
       "      <td>0.887042</td>\n",
       "      <td>1.284004</td>\n",
       "      <td>1.318490</td>\n",
       "    </tr>\n",
       "    <tr>\n",
       "      <th>2</th>\n",
       "      <td>CONT-01</td>\n",
       "      <td>3</td>\n",
       "      <td>0</td>\n",
       "      <td>1</td>\n",
       "      <td>0.059513</td>\n",
       "      <td>0.019338</td>\n",
       "      <td>0.044642</td>\n",
       "      <td>70.156291</td>\n",
       "      <td>0.203531</td>\n",
       "      <td>0.600759</td>\n",
       "      <td>0.005283</td>\n",
       "      <td>0.889399</td>\n",
       "      <td>1.338276</td>\n",
       "      <td>1.354933</td>\n",
       "    </tr>\n",
       "    <tr>\n",
       "      <th>3</th>\n",
       "      <td>CONT-02</td>\n",
       "      <td>1</td>\n",
       "      <td>0</td>\n",
       "      <td>0</td>\n",
       "      <td>0.073942</td>\n",
       "      <td>0.024716</td>\n",
       "      <td>0.056437</td>\n",
       "      <td>75.863575</td>\n",
       "      <td>0.261360</td>\n",
       "      <td>0.625216</td>\n",
       "      <td>0.030518</td>\n",
       "      <td>0.875984</td>\n",
       "      <td>1.555013</td>\n",
       "      <td>1.484138</td>\n",
       "    </tr>\n",
       "    <tr>\n",
       "      <th>4</th>\n",
       "      <td>CONT-02</td>\n",
       "      <td>2</td>\n",
       "      <td>0</td>\n",
       "      <td>0</td>\n",
       "      <td>0.058310</td>\n",
       "      <td>0.013119</td>\n",
       "      <td>0.031014</td>\n",
       "      <td>82.083492</td>\n",
       "      <td>0.222069</td>\n",
       "      <td>0.602493</td>\n",
       "      <td>0.035602</td>\n",
       "      <td>0.902206</td>\n",
       "      <td>1.468737</td>\n",
       "      <td>1.492090</td>\n",
       "    </tr>\n",
       "  </tbody>\n",
       "</table>\n",
       "</div>"
      ],
      "text/plain": [
       "        ID  Recording  Status  Gender  Pitch Local  Shim Loc  Amplitude  \\\n",
       "0  CONT-01          1       0       1     0.064654  0.030256   0.070478   \n",
       "1  CONT-01          2       0       1     0.093459  0.023146   0.053850   \n",
       "2  CONT-01          3       0       1     0.059513  0.019338   0.044642   \n",
       "3  CONT-02          1       0       0     0.073942  0.024716   0.056437   \n",
       "4  CONT-02          2       0       0     0.058310  0.013119   0.031014   \n",
       "\n",
       "    Harmonic      RPDE       DFA       PPE       GNE      MFCC     Delta  \n",
       "0  69.444370  0.250433  0.599346  0.005397  0.900404  1.318551  1.404508  \n",
       "1  71.426435  0.271445  0.581242  0.075617  0.887042  1.284004  1.318490  \n",
       "2  70.156291  0.203531  0.600759  0.005283  0.889399  1.338276  1.354933  \n",
       "3  75.863575  0.261360  0.625216  0.030518  0.875984  1.555013  1.484138  \n",
       "4  82.083492  0.222069  0.602493  0.035602  0.902206  1.468737  1.492090  "
      ]
     },
     "execution_count": 3,
     "metadata": {},
     "output_type": "execute_result"
    }
   ],
   "source": [
    "df = pd.read_csv('ReplicatedAcousticFeatures-ParkinsonDatabase (1).csv')\n",
    "df.head()"
   ]
  },
  {
   "cell_type": "code",
   "execution_count": 5,
   "metadata": {},
   "outputs": [
    {
     "data": {
      "text/plain": [
       "1    120\n",
       "0    120\n",
       "Name: Status, dtype: int64"
      ]
     },
     "execution_count": 5,
     "metadata": {},
     "output_type": "execute_result"
    }
   ],
   "source": [
    "df['Status'].value_counts()"
   ]
  },
  {
   "cell_type": "code",
   "execution_count": 6,
   "metadata": {},
   "outputs": [
    {
     "data": {
      "text/plain": [
       "Index(['ID', 'Recording', 'Status', 'Gender', 'Pitch Local', 'Shim Loc',\n",
       "       'Amplitude', 'Harmonic', 'RPDE', 'DFA', 'PPE', 'GNE', 'MFCC', 'Delta'],\n",
       "      dtype='object')"
      ]
     },
     "execution_count": 6,
     "metadata": {},
     "output_type": "execute_result"
    }
   ],
   "source": [
    "df.columns"
   ]
  },
  {
   "cell_type": "code",
   "execution_count": 29,
   "metadata": {},
   "outputs": [
    {
     "data": {
      "text/plain": [
       "array([[1.00000000e+00, 1.00000000e+00, 6.46537450e-02, 3.02560000e-02,\n",
       "        7.04782000e-02, 6.94443700e+01, 2.50432662e-01, 5.99346197e-01,\n",
       "        5.39662400e-03, 9.00403826e-01, 1.31855079e+00, 1.40450769e+00],\n",
       "       [2.00000000e+00, 1.00000000e+00, 9.34594910e-02, 2.31460000e-02,\n",
       "        5.38502000e-02, 7.14264349e+01, 2.71444855e-01, 5.81242444e-01,\n",
       "        7.56170040e-02, 8.87041519e-01, 1.28400354e+00, 1.31849039e+00],\n",
       "       [3.00000000e+00, 1.00000000e+00, 5.95130770e-02, 1.93380000e-02,\n",
       "        4.46416000e-02, 7.01562907e+01, 2.03530770e-01, 6.00759218e-01,\n",
       "        5.28287400e-03, 8.89399386e-01, 1.33827612e+00, 1.35493296e+00],\n",
       "       [1.00000000e+00, 0.00000000e+00, 7.39416080e-02, 2.47160000e-02,\n",
       "        5.64374000e-02, 7.58635749e+01, 2.61360087e-01, 6.25216415e-01,\n",
       "        3.05179610e-02, 8.75984295e-01, 1.55501317e+00, 1.48413830e+00],\n",
       "       [2.00000000e+00, 0.00000000e+00, 5.83104400e-02, 1.31190000e-02,\n",
       "        3.10142400e-02, 8.20834919e+01, 2.22069281e-01, 6.02492744e-01,\n",
       "        3.56018280e-02, 9.02205929e-01, 1.46873697e+00, 1.49209015e+00]])"
      ]
     },
     "execution_count": 29,
     "metadata": {},
     "output_type": "execute_result"
    }
   ],
   "source": [
    "X = df[['Recording', 'Gender', 'Pitch Local', 'Shim Loc',\n",
    "       'Amplitude', 'Harmonic', 'RPDE', 'DFA', 'PPE', 'GNE', 'MFCC', 'Delta']] .values  #.astype(float)\n",
    "X[0:5]"
   ]
  },
  {
   "cell_type": "code",
   "execution_count": 30,
   "metadata": {},
   "outputs": [
    {
     "data": {
      "text/plain": [
       "array([0, 0, 0, 0, 0], dtype=int64)"
      ]
     },
     "execution_count": 30,
     "metadata": {},
     "output_type": "execute_result"
    }
   ],
   "source": [
    "y = df['Status'].values\n",
    "y[0:5]"
   ]
  },
  {
   "cell_type": "code",
   "execution_count": 31,
   "metadata": {},
   "outputs": [
    {
     "data": {
      "text/plain": [
       "array([[-1.22474487e+00,  1.22474487e+00, -6.12438254e-01,\n",
       "        -3.52788775e-01, -3.54303372e-01, -1.45167674e-01,\n",
       "        -9.17290276e-01, -1.74762205e-01, -1.16213834e+00,\n",
       "        -5.14102383e-01, -1.05044905e-01,  3.35778928e-01],\n",
       "       [ 0.00000000e+00,  1.22474487e+00, -3.99964179e-01,\n",
       "        -6.59723069e-01, -6.59528776e-01, -2.19110212e-02,\n",
       "        -5.96504860e-01, -4.08004714e-01, -8.55996101e-01,\n",
       "        -9.08968232e-01, -2.91305205e-01, -1.22009605e-01],\n",
       "       [ 1.22474487e+00,  1.22474487e+00, -6.50356338e-01,\n",
       "        -8.24112070e-01, -8.28562855e-01, -1.00896188e-01,\n",
       "        -1.63332420e+00, -1.56557330e-01, -1.16263426e+00,\n",
       "        -8.39291554e-01,  1.30352996e-03,  7.19396327e-02],\n",
       "       [-1.22474487e+00, -8.16496581e-01, -5.43930044e-01,\n",
       "        -5.91947142e-01, -6.12037847e-01,  2.54016886e-01,\n",
       "        -7.50465301e-01,  1.58540761e-01, -1.05261597e+00,\n",
       "        -1.23571721e+00,  1.16983380e+00,  7.59577143e-01],\n",
       "       [ 0.00000000e+00, -8.16496581e-01, -6.59227109e-01,\n",
       "        -1.09258245e+00, -1.07870818e+00,  6.40808538e-01,\n",
       "        -1.35030357e+00, -1.34223178e-01, -1.03045166e+00,\n",
       "        -4.60848934e-01,  7.04678689e-01,  8.01897334e-01]])"
      ]
     },
     "execution_count": 31,
     "metadata": {},
     "output_type": "execute_result"
    }
   ],
   "source": [
    "X = preprocessing.StandardScaler().fit(X).transform(X.astype(float))\n",
    "X[0:5]"
   ]
  },
  {
   "cell_type": "code",
   "execution_count": 32,
   "metadata": {},
   "outputs": [
    {
     "name": "stdout",
     "output_type": "stream",
     "text": [
      "Train set: (192, 12) (192,)\n",
      "Test set: (48, 12) (48,)\n"
     ]
    }
   ],
   "source": [
    "from sklearn.model_selection import train_test_split\n",
    "X_train, X_test, y_train, y_test = train_test_split( X, y, test_size=0.2, random_state=4)\n",
    "print ('Train set:', X_train.shape,  y_train.shape)\n",
    "print ('Test set:', X_test.shape,  y_test.shape)"
   ]
  },
  {
   "cell_type": "code",
   "execution_count": 33,
   "metadata": {},
   "outputs": [],
   "source": [
    "from sklearn.neighbors import KNeighborsClassifier"
   ]
  },
  {
   "cell_type": "code",
   "execution_count": 34,
   "metadata": {},
   "outputs": [
    {
     "data": {
      "text/plain": [
       "KNeighborsClassifier(algorithm='auto', leaf_size=30, metric='minkowski',\n",
       "                     metric_params=None, n_jobs=None, n_neighbors=4, p=2,\n",
       "                     weights='uniform')"
      ]
     },
     "execution_count": 34,
     "metadata": {},
     "output_type": "execute_result"
    }
   ],
   "source": [
    "k = 4\n",
    "#Train Model and Predict  \n",
    "neigh = KNeighborsClassifier(n_neighbors = k).fit(X_train,y_train)\n",
    "neigh"
   ]
  },
  {
   "cell_type": "code",
   "execution_count": 35,
   "metadata": {},
   "outputs": [
    {
     "data": {
      "text/plain": [
       "array([0, 0, 0, 0, 0], dtype=int64)"
      ]
     },
     "execution_count": 35,
     "metadata": {},
     "output_type": "execute_result"
    }
   ],
   "source": [
    "yhat = neigh.predict(X_test)\n",
    "yhat[0:5]"
   ]
  },
  {
   "cell_type": "code",
   "execution_count": 36,
   "metadata": {},
   "outputs": [
    {
     "name": "stdout",
     "output_type": "stream",
     "text": [
      "Train set Accuracy:  0.8958333333333334\n",
      "Test set Accuracy:  0.8125\n"
     ]
    }
   ],
   "source": [
    "from sklearn import metrics\n",
    "print(\"Train set Accuracy: \", metrics.accuracy_score(y_train, neigh.predict(X_train)))\n",
    "print(\"Test set Accuracy: \", metrics.accuracy_score(y_test, yhat))"
   ]
  },
  {
   "cell_type": "code",
   "execution_count": 37,
   "metadata": {},
   "outputs": [
    {
     "data": {
      "text/plain": [
       "array([0.77083333, 0.77083333, 0.79166667, 0.8125    , 0.83333333,\n",
       "       0.8125    , 0.8125    , 0.77083333, 0.79166667])"
      ]
     },
     "execution_count": 37,
     "metadata": {},
     "output_type": "execute_result"
    }
   ],
   "source": [
    "Ks = 10\n",
    "mean_acc = np.zeros((Ks-1))\n",
    "std_acc = np.zeros((Ks-1))\n",
    "ConfustionMx = [];\n",
    "for n in range(1,Ks):\n",
    "    \n",
    "    #Train Model and Predict  \n",
    "    neigh = KNeighborsClassifier(n_neighbors = n).fit(X_train,y_train)\n",
    "    yhat=neigh.predict(X_test)\n",
    "    mean_acc[n-1] = metrics.accuracy_score(y_test, yhat)\n",
    "\n",
    "    \n",
    "    std_acc[n-1]=np.std(yhat==y_test)/np.sqrt(yhat.shape[0])\n",
    "\n",
    "mean_acc"
   ]
  },
  {
   "cell_type": "code",
   "execution_count": 38,
   "metadata": {},
   "outputs": [
    {
     "data": {
      "image/png": "[encoded data removed]",
      "text/plain": [
       "<Figure size 432x288 with 1 Axes>"
      ]
     },
     "metadata": {
      "needs_background": "light"
     },
     "output_type": "display_data"
    }
   ],
   "source": [
    "plt.plot(range(1,Ks),mean_acc,'g')\n",
    "plt.fill_between(range(1,Ks),mean_acc - 1 * std_acc,mean_acc + 1 * std_acc, alpha=0.10)\n",
    "plt.legend(('Accuracy ', '+/- 3xstd'))\n",
    "plt.ylabel('Accuracy ')\n",
    "plt.xlabel('Number of Nabors (K)')\n",
    "plt.tight_layout()\n",
    "plt.show()"
   ]
  },
  {
   "cell_type": "code",
   "execution_count": 39,
   "metadata": {},
   "outputs": [
    {
     "name": "stdout",
     "output_type": "stream",
     "text": [
      "The best accuracy was with 0.8333333333333334 with k= 5\n"
     ]
    }
   ],
   "source": [
    "print( \"The best accuracy was with\", mean_acc.max(), \"with k=\", mean_acc.argmax()+1) "
   ]
  },
  {
   "cell_type": "code",
   "execution_count": null,
   "metadata": {},
   "outputs": [],
   "source": []
  }
 ],
 "metadata": {
  "kernelspec": {
   "display_name": "Python 3",
   "language": "python",
   "name": "python3"
  },
  "language_info": {
   "codemirror_mode": {
    "name": "ipython",
    "version": 3
   },
   "file_extension": ".py",
   "mimetype": "text/x-python",
   "name": "python",
   "nbconvert_exporter": "python",
   "pygments_lexer": "ipython3",
   "version": "3.6.9"
  }
 },
 "nbformat": 4,
 "nbformat_minor": 4
}
