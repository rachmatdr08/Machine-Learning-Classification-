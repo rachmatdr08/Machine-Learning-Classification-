{
 "cells": [
  {
   "cell_type": "code",
   "execution_count": 1,
   "metadata": {},
   "outputs": [],
   "source": [
    "import pandas as pd\n",
    "import pylab as pl\n",
    "import numpy as np\n",
    "import scipy.optimize as opt\n",
    "from sklearn import preprocessing\n",
    "from sklearn.model_selection import train_test_split\n",
    "%matplotlib inline \n",
    "import matplotlib.pyplot as plt"
   ]
  },
  {
   "cell_type": "code",
   "execution_count": 2,
   "metadata": {},
   "outputs": [
    {
     "data": {
      "text/html": [
       "<div>\n",
       "<style scoped>\n",
       "    .dataframe tbody tr th:only-of-type {\n",
       "        vertical-align: middle;\n",
       "    }\n",
       "\n",
       "    .dataframe tbody tr th {\n",
       "        vertical-align: top;\n",
       "    }\n",
       "\n",
       "    .dataframe thead th {\n",
       "        text-align: right;\n",
       "    }\n",
       "</style>\n",
       "<table border=\"1\" class=\"dataframe\">\n",
       "  <thead>\n",
       "    <tr style=\"text-align: right;\">\n",
       "      <th></th>\n",
       "      <th>ID</th>\n",
       "      <th>Recording</th>\n",
       "      <th>Status</th>\n",
       "      <th>Gender</th>\n",
       "      <th>Pitch Local</th>\n",
       "      <th>Shim Loc</th>\n",
       "      <th>Amplitude</th>\n",
       "      <th>Harmonic</th>\n",
       "      <th>RPDE</th>\n",
       "      <th>DFA</th>\n",
       "      <th>PPE</th>\n",
       "      <th>GNE</th>\n",
       "      <th>MFCC</th>\n",
       "      <th>Delta</th>\n",
       "    </tr>\n",
       "  </thead>\n",
       "  <tbody>\n",
       "    <tr>\n",
       "      <th>0</th>\n",
       "      <td>CONT-01</td>\n",
       "      <td>1</td>\n",
       "      <td>0</td>\n",
       "      <td>1</td>\n",
       "      <td>0.064654</td>\n",
       "      <td>0.030256</td>\n",
       "      <td>0.070478</td>\n",
       "      <td>69.444370</td>\n",
       "      <td>0.250433</td>\n",
       "      <td>0.599346</td>\n",
       "      <td>0.005397</td>\n",
       "      <td>0.900404</td>\n",
       "      <td>1.318551</td>\n",
       "      <td>1.404508</td>\n",
       "    </tr>\n",
       "    <tr>\n",
       "      <th>1</th>\n",
       "      <td>CONT-01</td>\n",
       "      <td>2</td>\n",
       "      <td>0</td>\n",
       "      <td>1</td>\n",
       "      <td>0.093459</td>\n",
       "      <td>0.023146</td>\n",
       "      <td>0.053850</td>\n",
       "      <td>71.426435</td>\n",
       "      <td>0.271445</td>\n",
       "      <td>0.581242</td>\n",
       "      <td>0.075617</td>\n",
       "      <td>0.887042</td>\n",
       "      <td>1.284004</td>\n",
       "      <td>1.318490</td>\n",
       "    </tr>\n",
       "    <tr>\n",
       "      <th>2</th>\n",
       "      <td>CONT-01</td>\n",
       "      <td>3</td>\n",
       "      <td>0</td>\n",
       "      <td>1</td>\n",
       "      <td>0.059513</td>\n",
       "      <td>0.019338</td>\n",
       "      <td>0.044642</td>\n",
       "      <td>70.156291</td>\n",
       "      <td>0.203531</td>\n",
       "      <td>0.600759</td>\n",
       "      <td>0.005283</td>\n",
       "      <td>0.889399</td>\n",
       "      <td>1.338276</td>\n",
       "      <td>1.354933</td>\n",
       "    </tr>\n",
       "    <tr>\n",
       "      <th>3</th>\n",
       "      <td>CONT-02</td>\n",
       "      <td>1</td>\n",
       "      <td>0</td>\n",
       "      <td>0</td>\n",
       "      <td>0.073942</td>\n",
       "      <td>0.024716</td>\n",
       "      <td>0.056437</td>\n",
       "      <td>75.863575</td>\n",
       "      <td>0.261360</td>\n",
       "      <td>0.625216</td>\n",
       "      <td>0.030518</td>\n",
       "      <td>0.875984</td>\n",
       "      <td>1.555013</td>\n",
       "      <td>1.484138</td>\n",
       "    </tr>\n",
       "    <tr>\n",
       "      <th>4</th>\n",
       "      <td>CONT-02</td>\n",
       "      <td>2</td>\n",
       "      <td>0</td>\n",
       "      <td>0</td>\n",
       "      <td>0.058310</td>\n",
       "      <td>0.013119</td>\n",
       "      <td>0.031014</td>\n",
       "      <td>82.083492</td>\n",
       "      <td>0.222069</td>\n",
       "      <td>0.602493</td>\n",
       "      <td>0.035602</td>\n",
       "      <td>0.902206</td>\n",
       "      <td>1.468737</td>\n",
       "      <td>1.492090</td>\n",
       "    </tr>\n",
       "  </tbody>\n",
       "</table>\n",
       "</div>"
      ],
      "text/plain": [
       "        ID  Recording  Status  Gender  Pitch Local  Shim Loc  Amplitude  \\\n",
       "0  CONT-01          1       0       1     0.064654  0.030256   0.070478   \n",
       "1  CONT-01          2       0       1     0.093459  0.023146   0.053850   \n",
       "2  CONT-01          3       0       1     0.059513  0.019338   0.044642   \n",
       "3  CONT-02          1       0       0     0.073942  0.024716   0.056437   \n",
       "4  CONT-02          2       0       0     0.058310  0.013119   0.031014   \n",
       "\n",
       "    Harmonic      RPDE       DFA       PPE       GNE      MFCC     Delta  \n",
       "0  69.444370  0.250433  0.599346  0.005397  0.900404  1.318551  1.404508  \n",
       "1  71.426435  0.271445  0.581242  0.075617  0.887042  1.284004  1.318490  \n",
       "2  70.156291  0.203531  0.600759  0.005283  0.889399  1.338276  1.354933  \n",
       "3  75.863575  0.261360  0.625216  0.030518  0.875984  1.555013  1.484138  \n",
       "4  82.083492  0.222069  0.602493  0.035602  0.902206  1.468737  1.492090  "
      ]
     },
     "execution_count": 2,
     "metadata": {},
     "output_type": "execute_result"
    }
   ],
   "source": [
    "cell_df = pd.read_csv(\"ReplicatedAcousticFeatures-ParkinsonDatabase (1).csv\")\n",
    "cell_df.head()"
   ]
  },
  {
   "cell_type": "code",
   "execution_count": 10,
   "metadata": {},
   "outputs": [
    {
     "data": {
      "text/plain": [
       "array([[1.00000000e+00, 1.00000000e+00, 6.46537450e-02, 3.02560000e-02,\n",
       "        7.04782000e-02, 6.94443700e+01, 2.50432662e-01, 5.99346197e-01,\n",
       "        5.39662400e-03, 9.00403826e-01, 1.31855079e+00, 1.40450769e+00],\n",
       "       [2.00000000e+00, 1.00000000e+00, 9.34594910e-02, 2.31460000e-02,\n",
       "        5.38502000e-02, 7.14264349e+01, 2.71444855e-01, 5.81242444e-01,\n",
       "        7.56170040e-02, 8.87041519e-01, 1.28400354e+00, 1.31849039e+00],\n",
       "       [3.00000000e+00, 1.00000000e+00, 5.95130770e-02, 1.93380000e-02,\n",
       "        4.46416000e-02, 7.01562907e+01, 2.03530770e-01, 6.00759218e-01,\n",
       "        5.28287400e-03, 8.89399386e-01, 1.33827612e+00, 1.35493296e+00],\n",
       "       [1.00000000e+00, 0.00000000e+00, 7.39416080e-02, 2.47160000e-02,\n",
       "        5.64374000e-02, 7.58635749e+01, 2.61360087e-01, 6.25216415e-01,\n",
       "        3.05179610e-02, 8.75984295e-01, 1.55501317e+00, 1.48413830e+00],\n",
       "       [2.00000000e+00, 0.00000000e+00, 5.83104400e-02, 1.31190000e-02,\n",
       "        3.10142400e-02, 8.20834919e+01, 2.22069281e-01, 6.02492744e-01,\n",
       "        3.56018280e-02, 9.02205929e-01, 1.46873697e+00, 1.49209015e+00]])"
      ]
     },
     "execution_count": 10,
     "metadata": {},
     "output_type": "execute_result"
    }
   ],
   "source": [
    "feature_df = cell_df[['Recording', 'Gender', 'Pitch Local', 'Shim Loc',\n",
    "       'Amplitude', 'Harmonic', 'RPDE', 'DFA', 'PPE', 'GNE', 'MFCC', 'Delta']]\n",
    "X = np.asarray(feature_df)\n",
    "X[0:5]"
   ]
  },
  {
   "cell_type": "code",
   "execution_count": 11,
   "metadata": {},
   "outputs": [
    {
     "data": {
      "text/plain": [
       "array([0, 0, 0, 0, 0])"
      ]
     },
     "execution_count": 11,
     "metadata": {},
     "output_type": "execute_result"
    }
   ],
   "source": [
    "cell_df['Status'] = cell_df['Status'].astype('int')\n",
    "y = np.asarray(cell_df['Status'])\n",
    "y [0:5]"
   ]
  },
  {
   "cell_type": "code",
   "execution_count": 12,
   "metadata": {},
   "outputs": [
    {
     "name": "stdout",
     "output_type": "stream",
     "text": [
      "Train set: (192, 12) (192,)\n",
      "Test set: (48, 12) (48,)\n"
     ]
    }
   ],
   "source": [
    "X_train, X_test, y_train, y_test = train_test_split( X, y, test_size=0.2, random_state=4)\n",
    "print ('Train set:', X_train.shape,  y_train.shape)\n",
    "print ('Test set:', X_test.shape,  y_test.shape)"
   ]
  },
  {
   "cell_type": "code",
   "execution_count": 34,
   "metadata": {},
   "outputs": [
    {
     "data": {
      "text/plain": [
       "SVC(C=1.0, cache_size=200, class_weight=None, coef0=0.0,\n",
       "    decision_function_shape='ovr', degree=3, gamma='auto_deprecated',\n",
       "    kernel='linear', max_iter=-1, probability=False, random_state=None,\n",
       "    shrinking=True, tol=0.001, verbose=False)"
      ]
     },
     "execution_count": 34,
     "metadata": {},
     "output_type": "execute_result"
    }
   ],
   "source": [
    "from sklearn import svm\n",
    "clf = svm.SVC(kernel='linear')\n",
    "clf.fit(X_train, y_train) "
   ]
  },
  {
   "cell_type": "code",
   "execution_count": 35,
   "metadata": {},
   "outputs": [
    {
     "data": {
      "text/plain": [
       "array([1, 0, 0, 0, 0])"
      ]
     },
     "execution_count": 35,
     "metadata": {},
     "output_type": "execute_result"
    }
   ],
   "source": [
    "yhat = clf.predict(X_test)\n",
    "yhat [0:5]"
   ]
  },
  {
   "cell_type": "code",
   "execution_count": 36,
   "metadata": {},
   "outputs": [],
   "source": [
    "from sklearn.metrics import classification_report, confusion_matrix\n",
    "import itertools"
   ]
  },
  {
   "cell_type": "code",
   "execution_count": 37,
   "metadata": {},
   "outputs": [],
   "source": [
    "def plot_confusion_matrix(cm, classes,\n",
    "                          normalize=False,\n",
    "                          title='Confusion matrix',\n",
    "                          cmap=plt.cm.Blues):\n",
    "    \"\"\"\n",
    "    This function prints and plots the confusion matrix.\n",
    "    Normalization can be applied by setting `normalize=True`.\n",
    "    \"\"\"\n",
    "    if normalize:\n",
    "        cm = cm.astype('float') / cm.sum(axis=1)[:, np.newaxis]\n",
    "        print(\"Normalized confusion matrix\")\n",
    "    else:\n",
    "        print('Confusion matrix, without normalization')\n",
    "\n",
    "    print(cm)\n",
    "\n",
    "    plt.imshow(cm, interpolation='nearest', cmap=cmap)\n",
    "    plt.title(title)\n",
    "    plt.colorbar()\n",
    "    tick_marks = np.arange(len(classes))\n",
    "    plt.xticks(tick_marks, classes, rotation=45)\n",
    "    plt.yticks(tick_marks, classes)\n",
    "\n",
    "    fmt = '.2f' if normalize else 'd'\n",
    "    thresh = cm.max() / 2.\n",
    "    for i, j in itertools.product(range(cm.shape[0]), range(cm.shape[1])):\n",
    "        plt.text(j, i, format(cm[i, j], fmt),\n",
    "                 horizontalalignment=\"center\",\n",
    "                 color=\"white\" if cm[i, j] > thresh else \"black\")\n",
    "\n",
    "    plt.tight_layout()\n",
    "    plt.ylabel('True label')\n",
    "    plt.xlabel('Predicted label')"
   ]
  },
  {
   "cell_type": "code",
   "execution_count": 38,
   "metadata": {},
   "outputs": [
    {
     "data": {
      "text/plain": [
       "0.813235294117647"
      ]
     },
     "execution_count": 38,
     "metadata": {},
     "output_type": "execute_result"
    }
   ],
   "source": [
    "from sklearn.metrics import f1_score\n",
    "f1_score(y_test, yhat, average='weighted') "
   ]
  },
  {
   "cell_type": "code",
   "execution_count": 39,
   "metadata": {},
   "outputs": [
    {
     "name": "stderr",
     "output_type": "stream",
     "text": [
      "E:\\digitalent2\\EDA\\lib\\site-packages\\sklearn\\metrics\\classification.py:635: DeprecationWarning: jaccard_similarity_score has been deprecated and replaced with jaccard_score. It will be removed in version 0.23. This implementation has surprising behavior for binary and multiclass classification tasks.\n",
      "  'and multiclass classification tasks.', DeprecationWarning)\n"
     ]
    },
    {
     "data": {
      "text/plain": [
       "0.8125"
      ]
     },
     "execution_count": 39,
     "metadata": {},
     "output_type": "execute_result"
    }
   ],
   "source": [
    "from sklearn.metrics import jaccard_similarity_score\n",
    "jaccard_similarity_score(y_test, yhat)"
   ]
  },
  {
   "cell_type": "code",
   "execution_count": null,
   "metadata": {},
   "outputs": [],
   "source": []
  }
 ],
 "metadata": {
  "kernelspec": {
   "display_name": "Python 3",
   "language": "python",
   "name": "python3"
  },
  "language_info": {
   "codemirror_mode": {
    "name": "ipython",
    "version": 3
   },
   "file_extension": ".py",
   "mimetype": "text/x-python",
   "name": "python",
   "nbconvert_exporter": "python",
   "pygments_lexer": "ipython3",
   "version": "3.6.9"
  }
 },
 "nbformat": 4,
 "nbformat_minor": 4
}
